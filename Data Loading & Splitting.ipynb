{
 "cells": [
  {
   "cell_type": "code",
   "execution_count": 1,
   "id": "7307e508-fd16-464d-9b62-04bde9685be0",
   "metadata": {},
   "outputs": [],
   "source": [
    "import numpy as np"
   ]
  },
  {
   "cell_type": "code",
   "execution_count": 2,
   "id": "c4685d21-0037-4601-ac8f-8a137b577bfb",
   "metadata": {},
   "outputs": [
    {
     "name": "stdout",
     "output_type": "stream",
     "text": [
      "Image Paths: ['1000268201_693b08cb0e.jpg', '1000268201_693b08cb0e.jpg', '1000268201_693b08cb0e.jpg', '1000268201_693b08cb0e.jpg', '1000268201_693b08cb0e.jpg']\n",
      "Captions: ['<SOS> A child in a pink dress is climbing up a set of stairs in an entry way . <EOS>', '<SOS> A girl going into a wooden building . <EOS>', '<SOS> A little girl climbing into a wooden playhouse . <EOS>', '<SOS> A little girl climbing the stairs to her playhouse . <EOS>', '<SOS> A little girl in a pink dress going into a wooden cabin . <EOS>']\n"
     ]
    }
   ],
   "source": [
    "image_paths = []\n",
    "captions = []\n",
    "\n",
    "with open('captions.txt', 'r', encoding='utf-8') as file:\n",
    "    next(file)  # Skip the header line\n",
    "    for line in file:\n",
    "        # Strip newline, then split at the first comma\n",
    "        line = line.strip()\n",
    "        if not line:\n",
    "            continue\n",
    "        image_path, caption = line.split(',', 1)\n",
    "\n",
    "        # Remove surrounding quotes and extra spaces\n",
    "        caption = caption.strip().strip('\"')\n",
    "        image_path = image_path.strip().strip('\"')\n",
    "        \n",
    "        image_paths.append(image_path)\n",
    "        captions.append(\"<SOS> \"+caption+\" <EOS>\")\n",
    "\n",
    "# Check sample output\n",
    "print(\"Image Paths:\", image_paths[:5])\n",
    "print(\"Captions:\", captions[:5])\n"
   ]
  },
  {
   "cell_type": "code",
   "execution_count": 3,
   "id": "9c947fcf-48af-4e8e-bfb1-8c693092c9f6",
   "metadata": {},
   "outputs": [
    {
     "name": "stdout",
     "output_type": "stream",
     "text": [
      "<SOS> A dog shakes its head near the shore , a red ball next to it . <EOS>\n"
     ]
    }
   ],
   "source": [
    "print(captions[35])"
   ]
  },
  {
   "cell_type": "code",
   "execution_count": 6,
   "id": "12896f71-03cb-401f-ab2f-cd3befa6d89c",
   "metadata": {},
   "outputs": [
    {
     "data": {
      "text/plain": [
       "40455"
      ]
     },
     "execution_count": 6,
     "metadata": {},
     "output_type": "execute_result"
    }
   ],
   "source": [
    "len(image_paths)"
   ]
  },
  {
   "cell_type": "code",
   "execution_count": 5,
   "id": "5eb81ceb-4db6-4a4a-a755-1c4d08b1620b",
   "metadata": {},
   "outputs": [
    {
     "data": {
      "text/plain": [
       "8091"
      ]
     },
     "execution_count": 5,
     "metadata": {},
     "output_type": "execute_result"
    }
   ],
   "source": [
    "len(set(image_paths))"
   ]
  },
  {
   "cell_type": "code",
   "execution_count": 7,
   "id": "3d42a3d5-be33-44e0-ae06-2e4abac0e25d",
   "metadata": {},
   "outputs": [
    {
     "data": {
      "text/plain": [
       "5663.7"
      ]
     },
     "execution_count": 7,
     "metadata": {},
     "output_type": "execute_result"
    }
   ],
   "source": [
    "0.7*8091"
   ]
  },
  {
   "cell_type": "code",
   "execution_count": 8,
   "id": "62841e98-61ac-484f-89ba-29b6b72750c4",
   "metadata": {},
   "outputs": [
    {
     "data": {
      "text/plain": [
       "28318.5"
      ]
     },
     "execution_count": 8,
     "metadata": {},
     "output_type": "execute_result"
    }
   ],
   "source": [
    "5663.7*5"
   ]
  },
  {
   "cell_type": "code",
   "execution_count": 9,
   "id": "47c0101f-a2b7-4bd6-ace9-8933e2a0ffe1",
   "metadata": {},
   "outputs": [
    {
     "data": {
      "text/plain": [
       "28318.5"
      ]
     },
     "execution_count": 9,
     "metadata": {},
     "output_type": "execute_result"
    }
   ],
   "source": [
    "0.7*40455"
   ]
  },
  {
   "cell_type": "code",
   "execution_count": 11,
   "id": "72c94641-8e43-4f1b-bb7a-7a3720dd8928",
   "metadata": {},
   "outputs": [
    {
     "data": {
      "text/plain": [
       "'3441104823_33cdae5a56.jpg'"
      ]
     },
     "execution_count": 11,
     "metadata": {},
     "output_type": "execute_result"
    }
   ],
   "source": [
    "image_paths[28318]"
   ]
  },
  {
   "cell_type": "code",
   "execution_count": 12,
   "id": "62113084-9e0c-4298-88a9-a0b9352ce096",
   "metadata": {},
   "outputs": [
    {
     "data": {
      "text/plain": [
       "'3441104823_33cdae5a56.jpg'"
      ]
     },
     "execution_count": 12,
     "metadata": {},
     "output_type": "execute_result"
    }
   ],
   "source": [
    "image_paths[28319]"
   ]
  },
  {
   "cell_type": "code",
   "execution_count": 13,
   "id": "dea942d6-b8f7-40ee-9f1f-dd57da6f8bcc",
   "metadata": {},
   "outputs": [
    {
     "data": {
      "text/plain": [
       "'3441145615_b4fcd9eea0.jpg'"
      ]
     },
     "execution_count": 13,
     "metadata": {},
     "output_type": "execute_result"
    }
   ],
   "source": [
    "image_paths[28320]"
   ]
  },
  {
   "cell_type": "code",
   "execution_count": 10,
   "id": "e09a8c78-86e0-4385-b13b-7b2660d33b42",
   "metadata": {},
   "outputs": [
    {
     "data": {
      "text/plain": [
       "['3441104823_33cdae5a56.jpg',\n",
       " '3441104823_33cdae5a56.jpg',\n",
       " '3441104823_33cdae5a56.jpg',\n",
       " '3441104823_33cdae5a56.jpg',\n",
       " '3441104823_33cdae5a56.jpg',\n",
       " '3441145615_b4fcd9eea0.jpg',\n",
       " '3441145615_b4fcd9eea0.jpg',\n",
       " '3441145615_b4fcd9eea0.jpg',\n",
       " '3441145615_b4fcd9eea0.jpg',\n",
       " '3441145615_b4fcd9eea0.jpg']"
      ]
     },
     "execution_count": 10,
     "metadata": {},
     "output_type": "execute_result"
    }
   ],
   "source": [
    "image_paths[28315:28325]"
   ]
  },
  {
   "cell_type": "code",
   "execution_count": 14,
   "id": "0c813cda-a208-4f06-a8b4-28123fec94d6",
   "metadata": {},
   "outputs": [
    {
     "data": {
      "text/plain": [
       "40455"
      ]
     },
     "execution_count": 14,
     "metadata": {},
     "output_type": "execute_result"
    }
   ],
   "source": [
    "len(captions)"
   ]
  },
  {
   "cell_type": "code",
   "execution_count": 15,
   "id": "c0b5feea-3475-463d-ae92-08da1ffe59f0",
   "metadata": {},
   "outputs": [],
   "source": [
    "train_image_paths=image_paths[0:28320]\n",
    "train_captions=captions[0:28320]\n",
    "dev_test_image_paths=image_paths[28320:]\n",
    "dev_test_captions=captions[28320:]"
   ]
  },
  {
   "cell_type": "code",
   "execution_count": 16,
   "id": "19e074ab-b9c0-4b4d-9a5a-102642ef1cd8",
   "metadata": {},
   "outputs": [
    {
     "data": {
      "text/plain": [
       "'3441104823_33cdae5a56.jpg'"
      ]
     },
     "execution_count": 16,
     "metadata": {},
     "output_type": "execute_result"
    }
   ],
   "source": [
    "train_image_paths[-1]"
   ]
  },
  {
   "cell_type": "code",
   "execution_count": 17,
   "id": "f308b4dc-9cd6-461d-b4f9-db854063ba1e",
   "metadata": {},
   "outputs": [
    {
     "data": {
      "text/plain": [
       "'3441145615_b4fcd9eea0.jpg'"
      ]
     },
     "execution_count": 17,
     "metadata": {},
     "output_type": "execute_result"
    }
   ],
   "source": [
    "dev_test_image_paths[0]"
   ]
  },
  {
   "cell_type": "code",
   "execution_count": 18,
   "id": "da92908b-f570-4471-b2f0-3f5a4bd63fbe",
   "metadata": {},
   "outputs": [],
   "source": [
    "import pickle\n",
    "\n",
    "# Save to disk\n",
    "with open(\"train_image_paths.pkl\", \"wb\") as f:\n",
    "    pickle.dump(train_image_paths, f)\n",
    "\n",
    "# Save to disk\n",
    "with open(\"train_captions.pkl\", \"wb\") as f:\n",
    "    pickle.dump(train_captions, f)\n",
    "\n",
    "# # Load from disk\n",
    "# with open(\"my_list.pkl\", \"rb\") as f:\n",
    "#     loaded_list = pickle.load(f)\n"
   ]
  },
  {
   "cell_type": "code",
   "execution_count": 19,
   "id": "34694866-069b-42d1-8d8f-7e738ccb0a05",
   "metadata": {},
   "outputs": [
    {
     "data": {
      "text/plain": [
       "12135"
      ]
     },
     "execution_count": 19,
     "metadata": {},
     "output_type": "execute_result"
    }
   ],
   "source": [
    "len(dev_test_image_paths)"
   ]
  },
  {
   "cell_type": "code",
   "execution_count": 20,
   "id": "90e83368-4c08-4989-8976-fe57ab59bfe0",
   "metadata": {},
   "outputs": [
    {
     "data": {
      "text/plain": [
       "2427.2999999999997"
      ]
     },
     "execution_count": 20,
     "metadata": {},
     "output_type": "execute_result"
    }
   ],
   "source": [
    "0.3*8091"
   ]
  },
  {
   "cell_type": "code",
   "execution_count": 21,
   "id": "0d9ac5a5-6f54-43e7-ad7a-59a6b1f781f4",
   "metadata": {},
   "outputs": [
    {
     "data": {
      "text/plain": [
       "12136.499999999998"
      ]
     },
     "execution_count": 21,
     "metadata": {},
     "output_type": "execute_result"
    }
   ],
   "source": [
    "2427.2999999999997*5"
   ]
  },
  {
   "cell_type": "code",
   "execution_count": 22,
   "id": "9c7236f9-de4e-4159-85da-0ebc2e66cf26",
   "metadata": {},
   "outputs": [
    {
     "data": {
      "text/plain": [
       "6067.5"
      ]
     },
     "execution_count": 22,
     "metadata": {},
     "output_type": "execute_result"
    }
   ],
   "source": [
    "12135/2"
   ]
  },
  {
   "cell_type": "code",
   "execution_count": 23,
   "id": "dc6bd96e-efdf-43aa-bb05-f1a0831343d3",
   "metadata": {},
   "outputs": [
    {
     "data": {
      "text/plain": [
       "['3688858505_e8afd1475d.jpg',\n",
       " '3688858505_e8afd1475d.jpg',\n",
       " '3688858505_e8afd1475d.jpg',\n",
       " '3688858505_e8afd1475d.jpg',\n",
       " '3688858505_e8afd1475d.jpg',\n",
       " '3689355450_fd559b816d.jpg',\n",
       " '3689355450_fd559b816d.jpg',\n",
       " '3689355450_fd559b816d.jpg',\n",
       " '3689355450_fd559b816d.jpg',\n",
       " '3689355450_fd559b816d.jpg']"
      ]
     },
     "execution_count": 23,
     "metadata": {},
     "output_type": "execute_result"
    }
   ],
   "source": [
    "dev_test_image_paths[6065:6075]"
   ]
  },
  {
   "cell_type": "code",
   "execution_count": 24,
   "id": "89b47ef8-f3a1-41f1-aa2e-6a9640d14b5e",
   "metadata": {},
   "outputs": [],
   "source": [
    "dev_image_paths=dev_test_image_paths[0:6070]\n",
    "dev_captions=dev_test_captions[0:6070]\n",
    "test_image_paths=dev_test_image_paths[6070:]\n",
    "test_captions=dev_test_captions[6070:]"
   ]
  },
  {
   "cell_type": "code",
   "execution_count": 25,
   "id": "08fc1f22-693b-46ff-917d-05f6b216418c",
   "metadata": {},
   "outputs": [
    {
     "data": {
      "text/plain": [
       "'3688858505_e8afd1475d.jpg'"
      ]
     },
     "execution_count": 25,
     "metadata": {},
     "output_type": "execute_result"
    }
   ],
   "source": [
    "dev_image_paths[-1]"
   ]
  },
  {
   "cell_type": "code",
   "execution_count": 26,
   "id": "872e45f5-81a7-4e7f-9da3-950cdf75519a",
   "metadata": {},
   "outputs": [
    {
     "data": {
      "text/plain": [
       "'3689355450_fd559b816d.jpg'"
      ]
     },
     "execution_count": 26,
     "metadata": {},
     "output_type": "execute_result"
    }
   ],
   "source": [
    "test_image_paths[0]"
   ]
  },
  {
   "cell_type": "code",
   "execution_count": 7,
   "id": "6c629467-137d-4ecc-aa63-b4dc7adf21d2",
   "metadata": {},
   "outputs": [],
   "source": [
    "def save_to_disk(obj,name):\n",
    "    import pickle\n",
    "\n",
    "    # Save to disk\n",
    "    with open(f\"{name}.pkl\", \"wb\") as f:\n",
    "        pickle.dump(obj, f)"
   ]
  },
  {
   "cell_type": "code",
   "execution_count": 32,
   "id": "cd866019-29c4-4ec3-aeb7-08707f7db918",
   "metadata": {},
   "outputs": [],
   "source": [
    "save_to_disk(dev_image_paths,\"dev_image_paths\")\n",
    "save_to_disk(dev_captions,\"dev_captions\")\n",
    "save_to_disk(test_image_paths,\"test_image_paths\")\n",
    "save_to_disk(test_captions,\"test_captions\")"
   ]
  },
  {
   "cell_type": "code",
   "execution_count": 33,
   "id": "9b922861-30e1-47b6-86f4-3c15ee862d78",
   "metadata": {},
   "outputs": [],
   "source": [
    "def load_from_disk(path):\n",
    "    import pickle\n",
    "\n",
    "    with open(path, \"rb\") as f:\n",
    "        loaded_list = pickle.load(f)\n",
    "\n",
    "    return loaded_list\n",
    "    "
   ]
  },
  {
   "cell_type": "code",
   "execution_count": 34,
   "id": "6a9f638a-f4e3-440e-b951-5acba478cd18",
   "metadata": {},
   "outputs": [],
   "source": [
    "train_image=load_from_disk('./Data/train_image_paths.pkl')"
   ]
  },
  {
   "cell_type": "code",
   "execution_count": 36,
   "id": "cd0d88d4-6449-4c56-85e2-f40d71555018",
   "metadata": {},
   "outputs": [
    {
     "data": {
      "text/plain": [
       "['1000268201_693b08cb0e.jpg',\n",
       " '1000268201_693b08cb0e.jpg',\n",
       " '1000268201_693b08cb0e.jpg',\n",
       " '1000268201_693b08cb0e.jpg',\n",
       " '1000268201_693b08cb0e.jpg',\n",
       " '1001773457_577c3a7d70.jpg',\n",
       " '1001773457_577c3a7d70.jpg',\n",
       " '1001773457_577c3a7d70.jpg',\n",
       " '1001773457_577c3a7d70.jpg',\n",
       " '1001773457_577c3a7d70.jpg']"
      ]
     },
     "execution_count": 36,
     "metadata": {},
     "output_type": "execute_result"
    }
   ],
   "source": [
    "train_image[0:10]"
   ]
  },
  {
   "cell_type": "code",
   "execution_count": 37,
   "id": "99b8483e-129b-4bc2-b290-3c984826d11b",
   "metadata": {},
   "outputs": [],
   "source": [
    "train_caption=load_from_disk('./Data/train_captions.pkl')"
   ]
  },
  {
   "cell_type": "code",
   "execution_count": 39,
   "id": "20754dfd-62be-4d21-8ace-0247f5e2617f",
   "metadata": {},
   "outputs": [
    {
     "data": {
      "text/plain": [
       "['<SOS> A child in a pink dress is climbing up a set of stairs in an entry way . <EOS>',\n",
       " '<SOS> A girl going into a wooden building . <EOS>',\n",
       " '<SOS> A little girl climbing into a wooden playhouse . <EOS>',\n",
       " '<SOS> A little girl climbing the stairs to her playhouse . <EOS>',\n",
       " '<SOS> A little girl in a pink dress going into a wooden cabin . <EOS>',\n",
       " '<SOS> A black dog and a spotted dog are fighting <EOS>',\n",
       " '<SOS> A black dog and a tri-colored dog playing with each other on the road . <EOS>',\n",
       " '<SOS> A black dog and a white dog with brown spots are staring at each other in the street . <EOS>',\n",
       " '<SOS> Two dogs of different breeds looking at each other on the road . <EOS>',\n",
       " '<SOS> Two dogs on pavement moving toward each other . <EOS>']"
      ]
     },
     "execution_count": 39,
     "metadata": {},
     "output_type": "execute_result"
    }
   ],
   "source": [
    "train_caption[0:10]"
   ]
  },
  {
   "cell_type": "code",
   "execution_count": 40,
   "id": "9121016c-3cc7-41dd-9b5b-385f7040e665",
   "metadata": {},
   "outputs": [
    {
     "data": {
      "text/plain": [
       "'3441104823_33cdae5a56.jpg'"
      ]
     },
     "execution_count": 40,
     "metadata": {},
     "output_type": "execute_result"
    }
   ],
   "source": [
    "train_image[-1]"
   ]
  },
  {
   "cell_type": "code",
   "execution_count": 41,
   "id": "0d270e6d-4db2-485b-88cf-8ae95fad53e8",
   "metadata": {},
   "outputs": [
    {
     "data": {
      "text/plain": [
       "'<SOS> A wide line of people . <EOS>'"
      ]
     },
     "execution_count": 41,
     "metadata": {},
     "output_type": "execute_result"
    }
   ],
   "source": [
    "train_caption[-1]"
   ]
  },
  {
   "cell_type": "code",
   "execution_count": 2,
   "id": "13b2f92c-ae91-46b7-a5f7-52e519ccfb29",
   "metadata": {},
   "outputs": [
    {
     "name": "stdout",
     "output_type": "stream",
     "text": [
      "Captions: ['A child in a pink dress is climbing up a set of stairs in an entry way .', 'A girl going into a wooden building .', 'A little girl climbing into a wooden playhouse .', 'A little girl climbing the stairs to her playhouse .', 'A little girl in a pink dress going into a wooden cabin .']\n"
     ]
    }
   ],
   "source": [
    "#image_paths = []\n",
    "captions = []\n",
    "\n",
    "with open('captions.txt', 'r', encoding='utf-8') as file:\n",
    "    next(file)  # Skip the header line\n",
    "    for line in file:\n",
    "        # Strip newline, then split at the first comma\n",
    "        line = line.strip()\n",
    "        if not line:\n",
    "            continue\n",
    "        image_path, caption = line.split(',', 1)\n",
    "\n",
    "        # Remove surrounding quotes and extra spaces\n",
    "        caption = caption.strip().strip('\"')\n",
    "        #image_path = image_path.strip().strip('\"')\n",
    "        \n",
    "        #image_paths.append(image_path)\n",
    "        captions.append(caption)\n",
    "\n",
    "# Check sample output\n",
    "#print(\"Image Paths:\", image_paths[:5])\n",
    "print(\"Captions:\", captions[:5])\n"
   ]
  },
  {
   "cell_type": "code",
   "execution_count": 3,
   "id": "59821097-bbe0-4dca-8743-cbaea4b09e88",
   "metadata": {},
   "outputs": [],
   "source": [
    "#train_image_paths=image_paths[0:28320]\n",
    "train_captions=captions[0:28320]\n",
    "#dev_test_image_paths=image_paths[28320:]\n",
    "dev_test_captions=captions[28320:]"
   ]
  },
  {
   "cell_type": "code",
   "execution_count": 4,
   "id": "9bcce753-b92a-4594-afa3-8de72cd5c59d",
   "metadata": {},
   "outputs": [],
   "source": [
    "import pickle\n",
    "\n",
    "# # Save to disk\n",
    "# with open(\"train_image_paths.pkl\", \"wb\") as f:\n",
    "#     pickle.dump(train_image_paths, f)\n",
    "\n",
    "# Save to disk\n",
    "with open(\"./Data/train_captions.pkl\", \"wb\") as f:\n",
    "    pickle.dump(train_captions, f)\n",
    "\n",
    "# # Load from disk\n",
    "# with open(\"my_list.pkl\", \"rb\") as f:\n",
    "#     loaded_list = pickle.load(f)\n"
   ]
  },
  {
   "cell_type": "code",
   "execution_count": 5,
   "id": "5ffba1aa-4c06-4b6a-a8a7-41414afc8970",
   "metadata": {},
   "outputs": [],
   "source": [
    "#dev_image_paths=dev_test_image_paths[0:6070]\n",
    "dev_captions=dev_test_captions[0:6070]\n",
    "#test_image_paths=dev_test_image_paths[6070:]\n",
    "test_captions=dev_test_captions[6070:]"
   ]
  },
  {
   "cell_type": "code",
   "execution_count": 8,
   "id": "5729e522-2c1b-4048-9f5c-d41152b8fa09",
   "metadata": {},
   "outputs": [],
   "source": [
    "#save_to_disk(dev_image_paths,\"dev_image_paths\")\n",
    "save_to_disk(dev_captions,\"./Data/dev_captions\")\n",
    "#save_to_disk(test_image_paths,\"test_image_paths\")\n",
    "save_to_disk(test_captions,\"./Data/test_captions\")"
   ]
  }
 ],
 "metadata": {
  "kernelspec": {
   "display_name": "Python 3 (ipykernel)",
   "language": "python",
   "name": "python3"
  },
  "language_info": {
   "codemirror_mode": {
    "name": "ipython",
    "version": 3
   },
   "file_extension": ".py",
   "mimetype": "text/x-python",
   "name": "python",
   "nbconvert_exporter": "python",
   "pygments_lexer": "ipython3",
   "version": "3.11.5"
  }
 },
 "nbformat": 4,
 "nbformat_minor": 5
}
