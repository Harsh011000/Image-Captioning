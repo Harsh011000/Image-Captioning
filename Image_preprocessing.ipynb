{
 "cells": [
  {
   "cell_type": "code",
   "execution_count": 2,
   "id": "1b7e7aed",
   "metadata": {
    "execution": {
     "iopub.execute_input": "2025-06-02T11:07:45.764951Z",
     "iopub.status.busy": "2025-06-02T11:07:45.764734Z",
     "iopub.status.idle": "2025-06-02T11:08:01.565457Z",
     "shell.execute_reply": "2025-06-02T11:08:01.564870Z"
    },
    "papermill": {
     "duration": 15.804708,
     "end_time": "2025-06-02T11:08:01.566793",
     "exception": false,
     "start_time": "2025-06-02T11:07:45.762085",
     "status": "completed"
    },
    "tags": []
   },
   "outputs": [
    {
     "name": "stderr",
     "output_type": "stream",
     "text": [
      "2025-06-02 11:07:47.367290: E external/local_xla/xla/stream_executor/cuda/cuda_fft.cc:477] Unable to register cuFFT factory: Attempting to register factory for plugin cuFFT when one has already been registered\n",
      "WARNING: All log messages before absl::InitializeLog() is called are written to STDERR\n",
      "E0000 00:00:1748862467.570465      19 cuda_dnn.cc:8310] Unable to register cuDNN factory: Attempting to register factory for plugin cuDNN when one has already been registered\n",
      "E0000 00:00:1748862467.634741      19 cuda_blas.cc:1418] Unable to register cuBLAS factory: Attempting to register factory for plugin cuBLAS when one has already been registered\n"
     ]
    }
   ],
   "source": [
    "import numpy as np\n",
    "import tensorflow as tf\n",
    "#from tensorflow.keras.layers import TextVectorization\n",
    "import pickle"
   ]
  },
  {
   "cell_type": "code",
   "execution_count": 3,
   "id": "a6e6d5d8",
   "metadata": {
    "execution": {
     "iopub.execute_input": "2025-06-02T11:08:01.573155Z",
     "iopub.status.busy": "2025-06-02T11:08:01.572416Z",
     "iopub.status.idle": "2025-06-02T11:08:01.576551Z",
     "shell.execute_reply": "2025-06-02T11:08:01.575879Z"
    },
    "papermill": {
     "duration": 0.008309,
     "end_time": "2025-06-02T11:08:01.577719",
     "exception": false,
     "start_time": "2025-06-02T11:08:01.569410",
     "status": "completed"
    },
    "tags": []
   },
   "outputs": [],
   "source": [
    "def load_from_disk(path):\n",
    "\n",
    "    with open(path, \"rb\") as f:\n",
    "        loaded_list = pickle.load(f)\n",
    "\n",
    "    return loaded_list"
   ]
  },
  {
   "cell_type": "code",
   "execution_count": 4,
   "id": "c9badc89",
   "metadata": {
    "execution": {
     "iopub.execute_input": "2025-06-02T11:08:01.583151Z",
     "iopub.status.busy": "2025-06-02T11:08:01.582913Z",
     "iopub.status.idle": "2025-06-02T11:08:01.645417Z",
     "shell.execute_reply": "2025-06-02T11:08:01.644790Z"
    },
    "papermill": {
     "duration": 0.066627,
     "end_time": "2025-06-02T11:08:01.646697",
     "exception": false,
     "start_time": "2025-06-02T11:08:01.580070",
     "status": "completed"
    },
    "tags": []
   },
   "outputs": [],
   "source": [
    "from tensorflow.keras.applications import ResNet50\n",
    "from tensorflow.keras.applications.resnet50 import preprocess_input"
   ]
  },
  {
   "cell_type": "code",
   "execution_count": 5,
   "id": "0cf5ec79",
   "metadata": {
    "execution": {
     "iopub.execute_input": "2025-06-02T11:08:01.652515Z",
     "iopub.status.busy": "2025-06-02T11:08:01.652066Z",
     "iopub.status.idle": "2025-06-02T11:08:01.676479Z",
     "shell.execute_reply": "2025-06-02T11:08:01.675899Z"
    },
    "papermill": {
     "duration": 0.028715,
     "end_time": "2025-06-02T11:08:01.677820",
     "exception": false,
     "start_time": "2025-06-02T11:08:01.649105",
     "status": "completed"
    },
    "tags": []
   },
   "outputs": [],
   "source": [
    "loaded_img_paths=load_from_disk('/kaggle/input/image-paths/train_image_paths.pkl')"
   ]
  },
  {
   "cell_type": "code",
   "execution_count": 6,
   "id": "8600d961",
   "metadata": {
    "execution": {
     "iopub.execute_input": "2025-06-02T11:08:01.683467Z",
     "iopub.status.busy": "2025-06-02T11:08:01.683251Z",
     "iopub.status.idle": "2025-06-02T11:08:01.687574Z",
     "shell.execute_reply": "2025-06-02T11:08:01.686890Z"
    },
    "papermill": {
     "duration": 0.008446,
     "end_time": "2025-06-02T11:08:01.688779",
     "exception": false,
     "start_time": "2025-06-02T11:08:01.680333",
     "status": "completed"
    },
    "tags": []
   },
   "outputs": [],
   "source": [
    "def load_and_preprocess_image(path):\n",
    "    path = tf.strings.join(['/kaggle/input/flickr8k/Images/', path])\n",
    "    img = tf.io.read_file(path)\n",
    "    img = tf.image.decode_jpeg(img, channels=3)\n",
    "    img = tf.image.resize_with_pad(img, 224, 224)\n",
    "    img = tf.cast(img, tf.float32)\n",
    "    img = preprocess_input(img)  # Normalize for ResNet-50\n",
    "    return img"
   ]
  },
  {
   "cell_type": "code",
   "execution_count": 7,
   "id": "1bfbdb10",
   "metadata": {
    "execution": {
     "iopub.execute_input": "2025-06-02T11:08:01.693821Z",
     "iopub.status.busy": "2025-06-02T11:08:01.693600Z",
     "iopub.status.idle": "2025-06-02T11:08:03.082262Z",
     "shell.execute_reply": "2025-06-02T11:08:03.081472Z"
    },
    "papermill": {
     "duration": 1.392631,
     "end_time": "2025-06-02T11:08:03.083543",
     "exception": false,
     "start_time": "2025-06-02T11:08:01.690912",
     "status": "completed"
    },
    "tags": []
   },
   "outputs": [
    {
     "name": "stderr",
     "output_type": "stream",
     "text": [
      "I0000 00:00:1748862482.868048      19 gpu_device.cc:2022] Created device /job:localhost/replica:0/task:0/device:GPU:0 with 15513 MB memory:  -> device: 0, name: Tesla P100-PCIE-16GB, pci bus id: 0000:00:04.0, compute capability: 6.0\n"
     ]
    }
   ],
   "source": [
    "data_encoder_set=tf.data.Dataset.from_tensor_slices(loaded_img_paths) \\\n",
    ".map(load_and_preprocess_image, num_parallel_calls=tf.data.AUTOTUNE) \\\n",
    ".batch(16)"
   ]
  },
  {
   "cell_type": "code",
   "execution_count": 8,
   "id": "2a06bdab",
   "metadata": {
    "execution": {
     "iopub.execute_input": "2025-06-02T11:08:03.089408Z",
     "iopub.status.busy": "2025-06-02T11:08:03.088749Z",
     "iopub.status.idle": "2025-06-02T11:08:06.080831Z",
     "shell.execute_reply": "2025-06-02T11:08:06.080254Z"
    },
    "papermill": {
     "duration": 2.996277,
     "end_time": "2025-06-02T11:08:06.082222",
     "exception": false,
     "start_time": "2025-06-02T11:08:03.085945",
     "status": "completed"
    },
    "tags": []
   },
   "outputs": [
    {
     "name": "stdout",
     "output_type": "stream",
     "text": [
      "Downloading data from https://storage.googleapis.com/tensorflow/keras-applications/resnet/resnet50_weights_tf_dim_ordering_tf_kernels_notop.h5\n",
      "\u001b[1m94765736/94765736\u001b[0m \u001b[32m━━━━━━━━━━━━━━━━━━━━\u001b[0m\u001b[37m\u001b[0m \u001b[1m0s\u001b[0m 0us/step\n"
     ]
    }
   ],
   "source": [
    "# strategy = tf.distribute.MirroredStrategy()\n",
    "# with strategy.scope():\n",
    "encoder=ResNet50(include_top=False,\n",
    "    weights='imagenet',\n",
    "    input_shape=(224,224,3))\n",
    "    "
   ]
  },
  {
   "cell_type": "code",
   "execution_count": 9,
   "id": "eaafd31c",
   "metadata": {
    "execution": {
     "iopub.execute_input": "2025-06-02T11:08:06.088898Z",
     "iopub.status.busy": "2025-06-02T11:08:06.088610Z",
     "iopub.status.idle": "2025-06-02T11:14:38.412550Z",
     "shell.execute_reply": "2025-06-02T11:14:38.411887Z"
    },
    "papermill": {
     "duration": 392.331427,
     "end_time": "2025-06-02T11:14:38.416691",
     "exception": false,
     "start_time": "2025-06-02T11:08:06.085264",
     "status": "completed"
    },
    "tags": []
   },
   "outputs": [
    {
     "name": "stderr",
     "output_type": "stream",
     "text": [
      "I0000 00:00:1748862486.389205      19 cuda_dnn.cc:529] Loaded cuDNN version 90300\n"
     ]
    },
    {
     "name": "stdout",
     "output_type": "stream",
     "text": [
      "Final output shape: (28320, 7, 7, 2048)\n"
     ]
    }
   ],
   "source": [
    "import numpy as np\n",
    "\n",
    "results = []\n",
    "\n",
    "for batch in data_encoder_set:\n",
    "    # Forward pass\n",
    "    pred = encoder(batch, training=False)  # use model() instead of .predict()\n",
    "    results.append(pred.numpy())           # move to CPU as NumPy\n",
    "\n",
    "# Concatenate all results on CPU\n",
    "output_result = np.concatenate(results, axis=0)\n",
    "\n",
    "print(\"Final output shape:\", output_result.shape)\n"
   ]
  },
  {
   "cell_type": "code",
   "execution_count": 10,
   "id": "62cf0c24",
   "metadata": {
    "execution": {
     "iopub.execute_input": "2025-06-02T11:14:38.423272Z",
     "iopub.status.busy": "2025-06-02T11:14:38.422737Z",
     "iopub.status.idle": "2025-06-02T11:14:38.429419Z",
     "shell.execute_reply": "2025-06-02T11:14:38.428875Z"
    },
    "papermill": {
     "duration": 0.010953,
     "end_time": "2025-06-02T11:14:38.430400",
     "exception": false,
     "start_time": "2025-06-02T11:14:38.419447",
     "status": "completed"
    },
    "scrolled": true,
    "tags": []
   },
   "outputs": [
    {
     "data": {
      "text/plain": [
       "array([[[ 0.        ,  0.        ,  0.        , ...,  0.        ,\n",
       "          0.        ,  0.        ],\n",
       "        [ 0.        ,  0.75875163,  0.        , ...,  0.        ,\n",
       "          0.        ,  2.087933  ],\n",
       "        [ 0.        ,  0.        ,  0.        , ...,  0.        ,\n",
       "          0.        ,  0.        ],\n",
       "        ...,\n",
       "        [ 0.        ,  0.        ,  0.        , ...,  0.        ,\n",
       "          0.        ,  0.        ],\n",
       "        [ 0.        ,  0.        ,  0.        , ...,  0.        ,\n",
       "          0.        ,  0.        ],\n",
       "        [ 0.        ,  0.        ,  0.        , ...,  0.        ,\n",
       "          0.        ,  0.        ]],\n",
       "\n",
       "       [[ 0.        ,  0.        ,  0.        , ...,  0.        ,\n",
       "          0.        ,  0.        ],\n",
       "        [ 0.        ,  0.        ,  0.        , ...,  0.        ,\n",
       "          0.        ,  0.        ],\n",
       "        [ 0.        ,  0.        ,  0.        , ...,  0.        ,\n",
       "          0.        ,  0.        ],\n",
       "        ...,\n",
       "        [ 0.        ,  0.        ,  0.        , ...,  0.        ,\n",
       "          0.        ,  0.        ],\n",
       "        [ 0.17752835,  0.        ,  0.        , ...,  0.        ,\n",
       "          0.        ,  0.        ],\n",
       "        [ 0.        ,  0.        ,  0.        , ...,  0.        ,\n",
       "          0.        ,  0.        ]],\n",
       "\n",
       "       [[ 0.        ,  0.        ,  0.        , ...,  0.        ,\n",
       "          0.        ,  0.        ],\n",
       "        [ 0.        ,  0.08340237,  0.        , ...,  0.        ,\n",
       "          0.        ,  0.        ],\n",
       "        [ 0.        ,  0.        ,  0.        , ...,  0.        ,\n",
       "          0.        ,  0.        ],\n",
       "        ...,\n",
       "        [ 0.        ,  0.        ,  0.        , ...,  0.        ,\n",
       "          0.        ,  0.        ],\n",
       "        [ 0.        ,  0.        ,  0.        , ...,  0.        ,\n",
       "          0.        ,  0.        ],\n",
       "        [ 0.        ,  0.        ,  0.        , ...,  0.        ,\n",
       "          0.        ,  0.        ]],\n",
       "\n",
       "       ...,\n",
       "\n",
       "       [[ 0.49193513,  0.        ,  0.        , ...,  0.        ,\n",
       "          0.        ,  0.        ],\n",
       "        [ 0.54540724,  0.        ,  0.        , ...,  0.        ,\n",
       "          0.        , 12.405422  ],\n",
       "        [ 2.9753356 ,  0.        ,  0.        , ...,  0.81663823,\n",
       "          0.        , 11.209741  ],\n",
       "        ...,\n",
       "        [ 0.        ,  0.        ,  0.        , ...,  0.        ,\n",
       "          0.        ,  2.8068662 ],\n",
       "        [ 0.        ,  0.        ,  0.        , ...,  0.        ,\n",
       "          0.        ,  0.        ],\n",
       "        [ 0.        ,  0.        ,  0.        , ...,  0.        ,\n",
       "          0.        ,  0.        ]],\n",
       "\n",
       "       [[ 0.        ,  0.        ,  0.        , ...,  0.        ,\n",
       "          0.        ,  0.        ],\n",
       "        [ 0.        ,  0.        ,  0.        , ...,  0.        ,\n",
       "          0.        ,  1.222921  ],\n",
       "        [ 0.        ,  0.        ,  0.        , ...,  0.35984087,\n",
       "          0.        ,  0.65490234],\n",
       "        ...,\n",
       "        [ 0.29520473,  0.        ,  0.        , ...,  0.        ,\n",
       "          0.        ,  9.210307  ],\n",
       "        [ 0.        ,  0.        ,  0.        , ...,  0.        ,\n",
       "          0.        ,  6.277686  ],\n",
       "        [ 0.        ,  0.        ,  0.        , ...,  0.        ,\n",
       "          0.        ,  0.        ]],\n",
       "\n",
       "       [[ 0.        ,  0.        ,  0.        , ...,  0.        ,\n",
       "          0.        ,  0.        ],\n",
       "        [ 0.        ,  0.        ,  0.        , ...,  0.        ,\n",
       "          0.        ,  1.132928  ],\n",
       "        [ 0.        ,  0.        ,  0.        , ...,  0.        ,\n",
       "          0.        ,  7.074274  ],\n",
       "        ...,\n",
       "        [ 0.        ,  0.        ,  0.        , ...,  0.        ,\n",
       "          5.5224705 ,  0.        ],\n",
       "        [ 0.        ,  0.        ,  0.        , ...,  0.        ,\n",
       "          1.2004013 ,  0.        ],\n",
       "        [ 0.        ,  0.        ,  0.        , ...,  0.        ,\n",
       "          0.        ,  0.        ]]], dtype=float32)"
      ]
     },
     "execution_count": 10,
     "metadata": {},
     "output_type": "execute_result"
    }
   ],
   "source": [
    "output_result[1]"
   ]
  },
  {
   "cell_type": "code",
   "execution_count": 11,
   "id": "02870813",
   "metadata": {
    "execution": {
     "iopub.execute_input": "2025-06-02T11:14:38.436777Z",
     "iopub.status.busy": "2025-06-02T11:14:38.436588Z",
     "iopub.status.idle": "2025-06-02T11:15:18.880190Z",
     "shell.execute_reply": "2025-06-02T11:15:18.878364Z"
    },
    "papermill": {
     "duration": 40.450815,
     "end_time": "2025-06-02T11:15:18.884128",
     "exception": false,
     "start_time": "2025-06-02T11:14:38.433313",
     "status": "completed"
    },
    "tags": []
   },
   "outputs": [
    {
     "name": "stdout",
     "output_type": "stream",
     "text": [
      "Saved\n"
     ]
    }
   ],
   "source": [
    "np.save('/kaggle/working/processed_train_images.npy',output_result)\n",
    "print(\"Saved\")"
   ]
  },
  {
   "cell_type": "code",
   "execution_count": 12,
   "id": "7db196ee",
   "metadata": {
    "execution": {
     "iopub.execute_input": "2025-06-02T11:15:18.924367Z",
     "iopub.status.busy": "2025-06-02T11:15:18.923680Z",
     "iopub.status.idle": "2025-06-02T11:15:18.926979Z",
     "shell.execute_reply": "2025-06-02T11:15:18.926355Z"
    },
    "papermill": {
     "duration": 0.008417,
     "end_time": "2025-06-02T11:15:18.928108",
     "exception": false,
     "start_time": "2025-06-02T11:15:18.919691",
     "status": "completed"
    },
    "tags": []
   },
   "outputs": [],
   "source": [
    "# output_result=encoder.predict(data_encoder_set)"
   ]
  }
 ],
 "metadata": {
  "kaggle": {
   "accelerator": "nvidiaTeslaT4",
   "dataSources": [
    {
     "datasetId": 623289,
     "sourceId": 1111676,
     "sourceType": "datasetVersion"
    },
    {
     "datasetId": 7571944,
     "sourceId": 12034009,
     "sourceType": "datasetVersion"
    }
   ],
   "dockerImageVersionId": 31041,
   "isGpuEnabled": true,
   "isInternetEnabled": true,
   "language": "python",
   "sourceType": "notebook"
  },
  "kernelspec": {
   "display_name": "Python 3 (ipykernel)",
   "language": "python",
   "name": "python3"
  },
  "language_info": {
   "codemirror_mode": {
    "name": "ipython",
    "version": 3
   },
   "file_extension": ".py",
   "mimetype": "text/x-python",
   "name": "python",
   "nbconvert_exporter": "python",
   "pygments_lexer": "ipython3",
   "version": "3.11.5"
  },
  "papermill": {
   "default_parameters": {},
   "duration": 461.518029,
   "end_time": "2025-06-02T11:15:22.942918",
   "environment_variables": {},
   "exception": null,
   "input_path": "__notebook__.ipynb",
   "output_path": "__notebook__.ipynb",
   "parameters": {},
   "start_time": "2025-06-02T11:07:41.424889",
   "version": "2.6.0"
  }
 },
 "nbformat": 4,
 "nbformat_minor": 5
}
